{
 "cells": [
  {
   "cell_type": "code",
   "execution_count": 1,
   "metadata": {},
   "outputs": [],
   "source": [
    "import csv\n",
    "from datetime import datetime\n",
    "import requests\n",
    "from bs4 import BeautifulSoup"
   ]
  },
  {
   "cell_type": "code",
   "execution_count": 2,
   "metadata": {},
   "outputs": [],
   "source": [
    "def get_url(position, location):\n",
    "    # generate a url from position and location\n",
    "\n",
    "    template = 'https://indeed.com/jobs?q={}&l={}'\n",
    "    url = template.format(position, location)\n",
    "    return url"
   ]
  },
  {
   "cell_type": "code",
   "execution_count": 3,
   "metadata": {},
   "outputs": [],
   "source": [
    "def get_record(card):\n",
    "    atag = card.h2.span\n",
    "    job_title = (card.find('h2', 'jobTitle').text.strip()).lstrip('new')\n",
    "    company = card.find('span','companyName').text.strip()\n",
    "    job_location = card.find('div','companyLocation').text.strip()\n",
    "    job_summary = card.find('div','job-snippet').text.strip()\n",
    "    post_date = (card.find('span','date').text.strip()).lstrip('Posted')\n",
    "    today = datetime.today().strftime('%Y-%m-%d')\n",
    "    try:\n",
    "        job_salary = card.find('div','salary-snippet').text.strip()\n",
    "    except AttributeError:\n",
    "        job_salary = ''\n",
    "\n",
    "    record = (job_title, company, job_location, post_date, today, job_summary, job_salary)\n",
    "\n",
    "    return record"
   ]
  },
  {
   "cell_type": "code",
   "execution_count": 4,
   "metadata": {},
   "outputs": [],
   "source": [
    "url = get_url('data science', 'Toronto')\n",
    "\n",
    "response = requests.get(url)\n",
    "\n",
    "soup = BeautifulSoup(response.text, 'html.parser')\n",
    "\n",
    "cards = soup.find_all('div', 'job_seen_beacon')"
   ]
  },
  {
   "cell_type": "code",
   "execution_count": 5,
   "metadata": {},
   "outputs": [],
   "source": [
    "card = cards[6]\n",
    "atag = card.h2.span"
   ]
  },
  {
   "cell_type": "code",
   "execution_count": 6,
   "metadata": {},
   "outputs": [
    {
     "name": "stdout",
     "output_type": "stream",
     "text": [
      "Cognitive Neuroscientist (R&D)\n"
     ]
    }
   ],
   "source": [
    "print((card.find('h2', 'jobTitle').text.strip()).lstrip('new'))"
   ]
  },
  {
   "cell_type": "code",
   "execution_count": 7,
   "metadata": {},
   "outputs": [
    {
     "name": "stdout",
     "output_type": "stream",
     "text": [
      "Intheon\n"
     ]
    }
   ],
   "source": [
    "print(card.find('span','companyName').text.strip())"
   ]
  },
  {
   "cell_type": "code",
   "execution_count": 8,
   "metadata": {},
   "outputs": [],
   "source": [
    "card = cards[0]"
   ]
  },
  {
   "cell_type": "code",
   "execution_count": 9,
   "metadata": {},
   "outputs": [
    {
     "data": {
      "text/plain": [
       "('Data Analyst',\n",
       " 'Excel Impact',\n",
       " 'Ohio',\n",
       " '30+ days ago',\n",
       " '2022-05-08',\n",
       " 'Our proprietary ImpactNavigation® platform technology utilizes machine learning, data science, and intelligent-marketing to guide & match interested customers…',\n",
       " '')"
      ]
     },
     "execution_count": 9,
     "metadata": {},
     "output_type": "execute_result"
    }
   ],
   "source": [
    "get_record(card)"
   ]
  },
  {
   "cell_type": "code",
   "execution_count": 10,
   "metadata": {},
   "outputs": [],
   "source": [
    "def main(position, location):\n",
    "\n",
    "    records = []\n",
    "    url= get_url(position,location)\n",
    "\n",
    "    while True:\n",
    "        response = requests.get(url)\n",
    "        soup = BeautifulSoup(response.text, 'html.parser')\n",
    "        cards = soup.find_all('div', 'job_seen_beacon')\n",
    "\n",
    "        for card in cards:\n",
    "            record = get_record(card)\n",
    "            records.append(record)\n",
    "\n",
    "        try:\n",
    "            url = 'https://indeed.com/' + (soup.find('a', {'aria-label': 'Next'}).get('href'))\n",
    "        except AttributeError:\n",
    "            break\n",
    "            \n",
    "    with open('job_postings_Toronto.csv', 'w', newline='',encoding='utf-8') as f:\n",
    "        writer = csv.writer(f)\n",
    "        writer.writerow(['job_title', 'company', 'job_location', 'post_date','extract_date','job_description', 'job_salary'])\n",
    "        writer.writerows(records)"
   ]
  },
  {
   "cell_type": "code",
   "execution_count": null,
   "metadata": {},
   "outputs": [],
   "source": [
    "main('data science','Toronto')"
   ]
  },
  {
   "cell_type": "code",
   "execution_count": null,
   "metadata": {},
   "outputs": [],
   "source": []
  }
 ],
 "metadata": {
  "kernelspec": {
   "display_name": "Python 3",
   "language": "python",
   "name": "python3"
  },
  "language_info": {
   "codemirror_mode": {
    "name": "ipython",
    "version": 3
   },
   "file_extension": ".py",
   "mimetype": "text/x-python",
   "name": "python",
   "nbconvert_exporter": "python",
   "pygments_lexer": "ipython3",
   "version": "3.8.5"
  }
 },
 "nbformat": 4,
 "nbformat_minor": 4
}
